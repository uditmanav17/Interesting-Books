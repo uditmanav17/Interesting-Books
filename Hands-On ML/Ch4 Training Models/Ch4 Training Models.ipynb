{
  "nbformat": 4,
  "nbformat_minor": 0,
  "metadata": {
    "colab": {
      "name": "Ch4 Training Models.ipynb",
      "provenance": [],
      "collapsed_sections": [],
      "toc_visible": true
    },
    "kernelspec": {
      "name": "python3",
      "display_name": "Python 3"
    }
  },
  "cells": [
    {
      "cell_type": "markdown",
      "metadata": {
        "id": "KUNF5VVOPFv-",
        "colab_type": "text"
      },
      "source": [
        "# Training Models"
      ]
    },
    {
      "cell_type": "markdown",
      "metadata": {
        "id": "5APGvZp4PIUk",
        "colab_type": "text"
      },
      "source": [
        "## Linear Regression\n",
        "Linear Regression Equation - $ \\hat{y} = \\theta_0 + \\theta_1 x_1 + ...+\\theta_n x_n$\n",
        "\n",
        "In this equation:\n",
        "* ŷ is the predicted value.\n",
        "* n is the number of features.\n",
        "* $x_i$ is the ith feature value.\n",
        "* $θ_j$ is the jth model parameter (including the bias term θ0 and the feature weights $θ_1, θ_2, ..., θ_n)$.\n",
        "\n",
        "Vectorized Linear Regression Eqn - $\\hat{y} = h_\\theta(x) = \\theta.X$\n",
        "\n",
        "In this equation:\n",
        "* θ is the model’s parameter vector, containing the bias term $θ_0$ and the feature weights $θ_1$ to $θ_n$.\n",
        "* x is the instance’s feature vector, containing $x_0$ to $x_n$, with $x_0$ always equal to 1.\n",
        "* $θ · X$ is the dot product of the vectors θ and x, which is of course equal to $θ_0 x_0 + θ_1 x_1 + ... + θ_n x_n$.\n",
        "* $h_θ$ is the hypothesis function, using the model parameters θ.\n",
        "\n",
        "MSE cost function for Linear Regression model <br>\n",
        "$ MSE(X, h_\\theta) = \\frac{1}{m} \\sum_{i=1}^{m}(\\theta^T x^{(i)} - y^{(i)})^2$"
      ]
    },
    {
      "cell_type": "markdown",
      "metadata": {
        "id": "yRrJ-MQRT62N",
        "colab_type": "text"
      },
      "source": [
        "### The Normal Equation\n",
        "To find the value of θ that minimizes the cost function, there is a closed-form solution —in other words, a mathematical equation that gives the result directly. This is called the Normal Equation <br>\n",
        "$\\hat{\\theta} = (X^T X)^{-1} X^T y$\n",
        "\n",
        "In this equation:\n",
        "* $\\hat{\\theta}$ is the value of θ that minimizes the cost function.\n",
        "* y is the vector of target values containing $y^{(1)}$ to $y^{(m)}$.\n"
      ]
    },
    {
      "cell_type": "code",
      "metadata": {
        "id": "n4eAiNwrAUuT",
        "colab_type": "code",
        "colab": {
          "base_uri": "https://localhost:8080/",
          "height": 265
        },
        "outputId": "bd8cb2ba-f45f-4ee2-e90a-8621a17776ec"
      },
      "source": [
        "# Let’s generate some linear-looking data to test this equation\n",
        "import numpy as np\n",
        "\n",
        "X = 2 * np.random.rand(100, 1)\n",
        "y = 4 + 3 * X + np.random.randn(100, 1)\n",
        "\n",
        "import matplotlib.pyplot as plt\n",
        "plt.scatter(X, y)\n",
        "plt.grid()\n",
        "plt.show()"
      ],
      "execution_count": 64,
      "outputs": [
        {
          "output_type": "display_data",
          "data": {
            "image/png": "[encoded data removed]",
            "text/plain": [
              "<Figure size 432x288 with 1 Axes>"
            ]
          },
          "metadata": {
            "tags": [],
            "needs_background": "light"
          }
        }
      ]
    },
    {
      "cell_type": "code",
      "metadata": {
        "id": "oxcCYPlyVLJ9",
        "colab_type": "code",
        "colab": {
          "base_uri": "https://localhost:8080/",
          "height": 54
        },
        "outputId": "4d7c83ec-1fcf-487b-9308-2f1db2d3d693"
      },
      "source": [
        "X_b = np.c_[np.ones((100, 1)), X] # add x0 = 1 to each instance\n",
        "# inv() to calculate inverse and .dot() for matrix multiplication\n",
        "theta_best = np.linalg.inv(X_b.T.dot(X_b)).dot(X_b.T).dot(y)\n",
        "print(theta_best)"
      ],
      "execution_count": 65,
      "outputs": [
        {
          "output_type": "stream",
          "text": [
            "[[3.98110009]\n",
            " [2.97465505]]\n"
          ],
          "name": "stdout"
        }
      ]
    },
    {
      "cell_type": "code",
      "metadata": {
        "id": "b3rTxPb0Vci0",
        "colab_type": "code",
        "colab": {
          "base_uri": "https://localhost:8080/",
          "height": 54
        },
        "outputId": "dfba7753-8de4-48f1-e991-eaad201471eb"
      },
      "source": [
        "# let's make some predictions\n",
        "X_new = np.array([[0], [2]])\n",
        "X_new_b = np.c_[np.ones((2, 1)), X_new] # add x0 = 1 to each instance\n",
        "y_predict = X_new_b.dot(theta_best)\n",
        "y_predict"
      ],
      "execution_count": 66,
      "outputs": [
        {
          "output_type": "execute_result",
          "data": {
            "text/plain": [
              "array([[3.98110009],\n",
              "       [9.93041018]])"
            ]
          },
          "metadata": {
            "tags": []
          },
          "execution_count": 66
        }
      ]
    },
    {
      "cell_type": "code",
      "metadata": {
        "id": "tr80rwj-WcCL",
        "colab_type": "code",
        "colab": {
          "base_uri": "https://localhost:8080/",
          "height": 265
        },
        "outputId": "4fd0d1e0-8497-4f29-e209-9a8f9de61ffb"
      },
      "source": [
        "# plotting the regression line\n",
        "plt.plot(X_new, y_predict, \"r-\")\n",
        "plt.plot(X, y, \"b.\")\n",
        "plt.axis([0, 2, 0, 15])\n",
        "plt.grid()\n",
        "plt.show()"
      ],
      "execution_count": 67,
      "outputs": [
        {
          "output_type": "display_data",
          "data": {
            "image/png": "[encoded data removed]",
            "text/plain": [
              "<Figure size 432x288 with 1 Axes>"
            ]
          },
          "metadata": {
            "tags": [],
            "needs_background": "light"
          }
        }
      ]
    },
    {
      "cell_type": "code",
      "metadata": {
        "id": "-Ivoi8_PWm49",
        "colab_type": "code",
        "colab": {
          "base_uri": "https://localhost:8080/",
          "height": 72
        },
        "outputId": "c29c8c5d-b349-4316-d7b0-8e4fd8badea4"
      },
      "source": [
        "# LINEAR REGRESSION with SCIKIT LEARN\n",
        "from sklearn.linear_model import LinearRegression\n",
        "lin_reg = LinearRegression()\n",
        "lin_reg.fit(X, y)\n",
        "print(f\"lin_reg.intercept_, lin_reg.coef_ = {lin_reg.intercept_, lin_reg.coef_}\")\n",
        "print(f\"lin_reg.predict(X_new) - {lin_reg.predict(X_new)}\")"
      ],
      "execution_count": 68,
      "outputs": [
        {
          "output_type": "stream",
          "text": [
            "lin_reg.intercept_, lin_reg.coef_ = (array([3.98110009]), array([[2.97465505]]))\n",
            "lin_reg.predict(X_new) - [[3.98110009]\n",
            " [9.93041018]]\n"
          ],
          "name": "stdout"
        }
      ]
    },
    {
      "cell_type": "markdown",
      "metadata": {
        "id": "QhbHNQJYXlTn",
        "colab_type": "text"
      },
      "source": [
        "The LinearRegression class is based on the scipy.linalg.lstsq() function (the name stands for “least squares”), which you could call directly:"
      ]
    },
    {
      "cell_type": "code",
      "metadata": {
        "id": "2vlmcgurXPlt",
        "colab_type": "code",
        "colab": {
          "base_uri": "https://localhost:8080/",
          "height": 54
        },
        "outputId": "e886d694-cb32-4fd4-a2d9-35755682a180"
      },
      "source": [
        "theta_best_svd, residuals, rank, s = np.linalg.lstsq(X_b, y, rcond=1e-6)\n",
        "theta_best_svd"
      ],
      "execution_count": 69,
      "outputs": [
        {
          "output_type": "execute_result",
          "data": {
            "text/plain": [
              "array([[3.98110009],\n",
              "       [2.97465505]])"
            ]
          },
          "metadata": {
            "tags": []
          },
          "execution_count": 69
        }
      ]
    },
    {
      "cell_type": "markdown",
      "metadata": {
        "id": "xdGlYbMGYoyD",
        "colab_type": "text"
      },
      "source": [
        "This function computes θ = $X^+$y, where $X^+$ is the pseudoinverse of X (specifically, the Moore-Penrose inverse). You can use np.linalg.pinv() to compute the pseudoinverse directly"
      ]
    },
    {
      "cell_type": "code",
      "metadata": {
        "id": "U_RxbFFyXqEv",
        "colab_type": "code",
        "colab": {
          "base_uri": "https://localhost:8080/",
          "height": 54
        },
        "outputId": "f682a43b-e0e3-4d75-f1ae-00fdd6664155"
      },
      "source": [
        "np.linalg.pinv(X_b).dot(y)"
      ],
      "execution_count": 70,
      "outputs": [
        {
          "output_type": "execute_result",
          "data": {
            "text/plain": [
              "array([[3.98110009],\n",
              "       [2.97465505]])"
            ]
          },
          "metadata": {
            "tags": []
          },
          "execution_count": 70
        }
      ]
    },
    {
      "cell_type": "markdown",
      "metadata": {
        "id": "4WuHjMH_ZJ6r",
        "colab_type": "text"
      },
      "source": [
        "## Gradient Descent\n"
      ]
    },
    {
      "cell_type": "markdown",
      "metadata": {
        "id": "OFb7txP9ZeZ2",
        "colab_type": "text"
      },
      "source": [
        "### Batch Gradient Descent\n",
        "Partial Derivative of cost function<br>\n",
        "$\\frac{\\partial }{\\partial \\theta_j} MSE(\\theta = \\frac{2}{m} \\sum_{i=1}^{m}(\\theta^T x^{(i)} - y^{(i)})x_j^{(i)})$\n",
        "\n",
        "Gradient Descent Step<br>\n",
        "$\\theta^{(next step)} = \\theta - \\eta \\nabla_\\theta MSE(\\theta)$\n",
        "\n",
        "It involves calculations over the full training set X, at each Gradient Descent step! This is why the algorithm is called Batch Gradient Descent: it uses the whole batch of training data at every step (actually, Full Gradient Descent would probably be a better name). As a result it is terribly slow on very large training sets. However, Gradient Descent scales well with the number of features; training a Linear Regression model when there are hundreds of thousands of features is much faster using Gradient Descent than using the Normal Equation or SVD decomposition.\n",
        "\n",
        "Let’s look at a quick implementation of this algorithm:\n"
      ]
    },
    {
      "cell_type": "code",
      "metadata": {
        "id": "HdEVmkrqZAld",
        "colab_type": "code",
        "colab": {
          "base_uri": "https://localhost:8080/",
          "height": 54
        },
        "outputId": "8d1b57eb-efa9-44ed-9f69-ed922ae659c9"
      },
      "source": [
        "eta = 0.1 # learning rate\n",
        "n_iterations = 1000\n",
        "m = 100\n",
        "\n",
        "theta = np.random.randn(2,1) # random initialization\n",
        "\n",
        "for iteration in range(n_iterations):\n",
        "    gradients = 2/m * X_b.T.dot(X_b.dot(theta) - y)\n",
        "    theta = theta - eta * gradients\n",
        "\n",
        "print(theta)    "
      ],
      "execution_count": 71,
      "outputs": [
        {
          "output_type": "stream",
          "text": [
            "[[3.98110009]\n",
            " [2.97465505]]\n"
          ],
          "name": "stdout"
        }
      ]
    },
    {
      "cell_type": "code",
      "metadata": {
        "id": "j0raDw0g0mYb",
        "colab_type": "code",
        "colab": {
          "base_uri": "https://localhost:8080/",
          "height": 293
        },
        "outputId": "89bf131e-111f-4174-b5ad-d5bdc6250ab1"
      },
      "source": [
        "# let's try with different leraning rates\n",
        "\n",
        "etas = [0.002, # too small, takes too many iterations to converge\n",
        "        0.1,  # just right\n",
        "        0.5   # too large, will jump around\n",
        "        ]\n",
        "\n",
        "n_iterations = 1000\n",
        "m = 100\n",
        "\n",
        "theta = np.random.randn(2,1) # random initialization\n",
        "for eta in etas:\n",
        "    for iteration in range(n_iterations):\n",
        "        gradients = 2/m * X_b.T.dot(X_b.dot(theta) - y)\n",
        "        theta = theta - eta * gradients\n",
        "    print(f\"eta: {eta} \\ntheta = {theta}\\n\\n\")"
      ],
      "execution_count": 72,
      "outputs": [
        {
          "output_type": "stream",
          "text": [
            "eta: 0.002 \n",
            "theta = [[3.25313941]\n",
            " [3.63230152]]\n",
            "\n",
            "\n",
            "eta: 0.1 \n",
            "theta = [[3.98110009]\n",
            " [2.97465505]]\n",
            "\n",
            "\n",
            "eta: 0.5 \n",
            "theta = [[3.98110009]\n",
            " [2.97465505]]\n",
            "\n",
            "\n"
          ],
          "name": "stdout"
        }
      ]
    },
    {
      "cell_type": "markdown",
      "metadata": {
        "id": "HhPEr4V41-ae",
        "colab_type": "text"
      },
      "source": [
        "### Stochastic Gradient descent\n",
        "The main problem with Batch Gradient Descent is the fact that it uses the whole training set to compute the gradients at every step, which makes it very slow when the training set is large. At the opposite extreme, Stochastic Gradient Descent picks a random instance in the training set at every step and computes the gradients based only on that single instance. Obviously, working on a single instance at a time makes the algorithm much faster because it has very little data to manipulate at every iteration. It also makes it possible to train on huge training sets, since only one instance needs to be in memory at each iteration.\n",
        "\n",
        "Stochastic Gradient Descent using a simple learning schedule:"
      ]
    },
    {
      "cell_type": "code",
      "metadata": {
        "id": "DB8r22P41Txs",
        "colab_type": "code",
        "colab": {
          "base_uri": "https://localhost:8080/",
          "height": 54
        },
        "outputId": "34ca91ca-932c-4312-844f-cb9d3e9e4e29"
      },
      "source": [
        "n_epochs = 50\n",
        "t0, t1 = 5, 50 # learning schedule hyperparameters\n",
        "\n",
        "def learning_schedule(t):\n",
        "    \"\"\" Used to decrease lr\"\"\"\n",
        "    return t0 / (t + t1)\n",
        "    \n",
        "theta = np.random.randn(2,1) # random initialization\n",
        "\n",
        "for epoch in range(n_epochs):\n",
        "    for i in range(m):\n",
        "        random_index = np.random.randint(m)\n",
        "        xi = X_b[random_index:random_index+1]\n",
        "        yi = y[random_index:random_index+1]\n",
        "        gradients = 2 * xi.T.dot(xi.dot(theta) - yi)\n",
        "        eta = learning_schedule(epoch * m + i)\n",
        "        theta = theta - eta * gradients\n",
        "\n",
        "print(theta)\n"
      ],
      "execution_count": 73,
      "outputs": [
        {
          "output_type": "stream",
          "text": [
            "[[4.0302585 ]\n",
            " [2.95585978]]\n"
          ],
          "name": "stdout"
        }
      ]
    },
    {
      "cell_type": "markdown",
      "metadata": {
        "id": "ShtRHkXo3NLQ",
        "colab_type": "text"
      },
      "source": [
        "To perform Linear Regression using Stochastic GD with Scikit-Learn, you can use the SGDRegressor class, which defaults to optimizing the squared error cost function. The following code runs for maximum 1,000 epochs or until the loss drops by less than 0.001 during one epoch (max_iter=1000, tol=1e-3)."
      ]
    },
    {
      "cell_type": "code",
      "metadata": {
        "id": "GsjtTe5N2_Qb",
        "colab_type": "code",
        "colab": {
          "base_uri": "https://localhost:8080/",
          "height": 35
        },
        "outputId": "2d9e57ed-40aa-4d27-9b8a-e22e3351e6eb"
      },
      "source": [
        "from sklearn.linear_model import SGDRegressor\n",
        "sgd_reg = SGDRegressor(max_iter=1000, tol=1e-3, penalty=None, eta0=0.1)\n",
        "sgd_reg.fit(X, y.ravel())\n",
        "print(sgd_reg.intercept_, sgd_reg.coef_)"
      ],
      "execution_count": 74,
      "outputs": [
        {
          "output_type": "stream",
          "text": [
            "[3.96133949] [2.97373929]\n"
          ],
          "name": "stdout"
        }
      ]
    },
    {
      "cell_type": "markdown",
      "metadata": {
        "id": "iBEpVPEJ3XUh",
        "colab_type": "text"
      },
      "source": [
        "### Mini Batch Gradient Descent\n",
        "At each step, instead of computing the gradients based on the full training set (as in Batch GD) or based on just one instance (as in Stochastic GD), Mini-batch GD computes the gradients on small random sets of instances called mini-batches. The main advantage of Mini-batch GD over Stochastic GD is that you can get a performance boost from hardware optimization of matrix operations, especially when using GPUs.\n"
      ]
    },
    {
      "cell_type": "markdown",
      "metadata": {
        "id": "_vYBMhXv5IOo",
        "colab_type": "text"
      },
      "source": [
        "## Polynomial Regression \n",
        "What if your data is more complex than a straight line? Surprisingly, you can use a linear model to fit nonlinear data. A simple way to do this is to add powers of each feature as new features, then train a linear model on this extended set of features. This technique is called Polynomial Regression.\n",
        "\n",
        "Let's look at an example:\n"
      ]
    },
    {
      "cell_type": "code",
      "metadata": {
        "id": "G2cckhiO3VFd",
        "colab_type": "code",
        "colab": {
          "base_uri": "https://localhost:8080/",
          "height": 265
        },
        "outputId": "b4bbc0d7-876c-4963-e338-4d54d148e4c2"
      },
      "source": [
        "m = 100\n",
        "X = 6 * np.random.rand(m, 1) - 3\n",
        "y = 0.5 * X**2 + X + 2 + np.random.randn(m, 1)\n",
        "\n",
        "plt.scatter(X, y)\n",
        "plt.grid()\n",
        "plt.show()"
      ],
      "execution_count": 75,
      "outputs": [
        {
          "output_type": "display_data",
          "data": {
            "image/png": "[encoded data removed]",
            "text/plain": [
              "<Figure size 432x288 with 1 Axes>"
            ]
          },
          "metadata": {
            "tags": [],
            "needs_background": "light"
          }
        }
      ]
    },
    {
      "cell_type": "markdown",
      "metadata": {
        "id": "Cn3HRNBP6Rmd",
        "colab_type": "text"
      },
      "source": [
        "Clearly, a straight line will never fit this data properly. So let’s use Scikit-Learn’s Poly nomialFeatures class to transform our training data, adding the square (second degree polynomial) of each feature in the training set as a new feature (in this case there is just one feature):"
      ]
    },
    {
      "cell_type": "code",
      "metadata": {
        "id": "X4qM3rLZ5nD7",
        "colab_type": "code",
        "colab": {
          "base_uri": "https://localhost:8080/",
          "height": 54
        },
        "outputId": "943b5ccd-75cc-48e0-cde8-5c26d24c9f93"
      },
      "source": [
        "from sklearn.preprocessing import PolynomialFeatures\n",
        "poly_features = PolynomialFeatures(degree=2, include_bias=False)\n",
        "X_poly = poly_features.fit_transform(X)\n",
        "print(X[0])\n",
        "print(X_poly[0])"
      ],
      "execution_count": 76,
      "outputs": [
        {
          "output_type": "stream",
          "text": [
            "[-0.8747498]\n",
            "[-0.8747498  0.7651872]\n"
          ],
          "name": "stdout"
        }
      ]
    },
    {
      "cell_type": "markdown",
      "metadata": {
        "id": "LOD2QDUu6mlT",
        "colab_type": "text"
      },
      "source": [
        "X_poly now contains the original feature of X plus the square of this feature. Now you can fit a LinearRegression model to this extended training data "
      ]
    },
    {
      "cell_type": "code",
      "metadata": {
        "id": "GzAemBYE6T2N",
        "colab_type": "code",
        "colab": {
          "base_uri": "https://localhost:8080/",
          "height": 35
        },
        "outputId": "e5b67197-5f26-4c78-c2c7-97a2e1c22f45"
      },
      "source": [
        "lin_reg = LinearRegression()\n",
        "lin_reg.fit(X_poly, y)\n",
        "print(lin_reg.intercept_, lin_reg.coef_)"
      ],
      "execution_count": 77,
      "outputs": [
        {
          "output_type": "stream",
          "text": [
            "[2.24333671] [[0.92305153 0.47212725]]\n"
          ],
          "name": "stdout"
        }
      ]
    },
    {
      "cell_type": "code",
      "metadata": {
        "id": "8vsTa5lq7HQA",
        "colab_type": "code",
        "colab": {
          "base_uri": "https://localhost:8080/",
          "height": 109
        },
        "outputId": "4b5280fb-2976-46af-87cd-7c607cc97175"
      },
      "source": [
        "# prediction on first 5 train samples\n",
        "lin_reg.predict(np.squeeze([np.c_[a, a**2] for a in X[:5]]))"
      ],
      "execution_count": 78,
      "outputs": [
        {
          "output_type": "execute_result",
          "data": {
            "text/plain": [
              "array([[1.7971633 ],\n",
              "       [3.65865155],\n",
              "       [1.94704741],\n",
              "       [2.39415553],\n",
              "       [1.81685899]])"
            ]
          },
          "metadata": {
            "tags": []
          },
          "execution_count": 78
        }
      ]
    },
    {
      "cell_type": "markdown",
      "metadata": {
        "id": "QVIJifPG_6so",
        "colab_type": "text"
      },
      "source": [
        "## Regularized Linear Models\n",
        "A good way to reduce overfitting is to regularize the model (i.e., to constrain it): the fewer degrees of freedom it has, the harder it will be for it to overfit the data. A simple way to regularize a polynomial model is to reduce\n",
        "the number of polynomial degrees.\n",
        "\n",
        "For a linear model, regularization is typically achieved by constraining the weights of the model. We will now look at Ridge Regression, Lasso Regression, and Elastic Net, which implement three different ways to constrain the weights."
      ]
    },
    {
      "cell_type": "markdown",
      "metadata": {
        "id": "Xg-ys0ATAeT0",
        "colab_type": "text"
      },
      "source": [
        "### Ridge Regression\n",
        "Ridge Regression is a regularized version of Linear Regression: a regularization term equal to $\\alpha \\sum_{i=1}^{n} \\theta_i^2$ is added to the cost function. This forces the learning algorithm to not only fit the data but also keep the model weights as small as possible. Note that the regularization term should only be added to the cost function during training. Once the model is trained, you want to use the unregularized performance measure to evaluate the model’s performance.\n",
        "\n",
        "Cost Function: <br>\n",
        "$J(\\theta) = MSE(\\theta) + \\alpha \\frac{1}{2} \\sum_{i=1}^{n} \\theta_i^2$\n",
        "\n",
        "Bias term $\\theta_0$ is not regularized.\n",
        "\n",
        "Ridge Regression Closed Form: <br>\n",
        "$\\hat{\\theta} = (X^T X + \\alpha A)^{-1} X^T y$\n",
        "\n",
        "Lets look at an example, using normal form:"
      ]
    },
    {
      "cell_type": "code",
      "metadata": {
        "id": "LMdEXIqe7-H7",
        "colab_type": "code",
        "colab": {
          "base_uri": "https://localhost:8080/",
          "height": 35
        },
        "outputId": "0b7f1d96-3171-4775-b067-34591ef46d5b"
      },
      "source": [
        "from sklearn.linear_model import Ridge\n",
        "ridge_reg = Ridge(alpha=1, solver=\"cholesky\")\n",
        "ridge_reg.fit(X, y)\n",
        "ridge_reg.predict([[1.5]])"
      ],
      "execution_count": 79,
      "outputs": [
        {
          "output_type": "execute_result",
          "data": {
            "text/plain": [
              "array([[5.25288096]])"
            ]
          },
          "metadata": {
            "tags": []
          },
          "execution_count": 79
        }
      ]
    },
    {
      "cell_type": "code",
      "metadata": {
        "id": "Dvmx2-uUH5iq",
        "colab_type": "code",
        "colab": {
          "base_uri": "https://localhost:8080/",
          "height": 35
        },
        "outputId": "8632ad2f-efb5-4622-f78e-ec3b15d88c6a"
      },
      "source": [
        "# Example using SGD\n",
        "sgd_reg = SGDRegressor(penalty=\"l2\")\n",
        "sgd_reg.fit(X, y.ravel())\n",
        "sgd_reg.predict([[1.5]])"
      ],
      "execution_count": 80,
      "outputs": [
        {
          "output_type": "execute_result",
          "data": {
            "text/plain": [
              "array([5.24486247])"
            ]
          },
          "metadata": {
            "tags": []
          },
          "execution_count": 80
        }
      ]
    },
    {
      "cell_type": "markdown",
      "metadata": {
        "id": "-gqg1473INT2",
        "colab_type": "text"
      },
      "source": [
        "The penalty hyperparameter sets the type of regularization term to use. Specifying \"l2\" indicates that you want SGD to add a regularization term to the cost function equal to half the square of the ℓ2 norm of the weight vector: this is simply Ridge Regression."
      ]
    },
    {
      "cell_type": "markdown",
      "metadata": {
        "id": "oYcO0P0uIOR2",
        "colab_type": "text"
      },
      "source": [
        "### Lasso Regression\n",
        "Least Absolute Shrinkage and Selection Operator Regression (usually simply called Lasso Regression) is another regularized version of Linear Regression: just like Ridge Regression, it adds a regularization term to the cost function, but it uses the ℓ1 norm of the weight vector instead of half the square of the ℓ2 norm.\n",
        "\n",
        "Cost Function:<br>\n",
        "$J(\\theta) = MSE(\\theta) + \\alpha \\frac{1}{2} \\sum_{i=1}^{n} |\\theta_i|$\n",
        "\n",
        "An important characteristic of Lasso Regression is that it tends to eliminate the weights of the least important features (i.e., set them to zero). In other words, **Lasso Regression automatically performs feature selection and outputs a sparse model** (i.e., with few nonzero feature weights). \n",
        "\n",
        "Let's have a look at an example:"
      ]
    },
    {
      "cell_type": "code",
      "metadata": {
        "id": "0WFt9RsQIHY7",
        "colab_type": "code",
        "colab": {
          "base_uri": "https://localhost:8080/",
          "height": 35
        },
        "outputId": "8fd8ae95-0a34-4880-d830-9d84224c78f8"
      },
      "source": [
        "from sklearn.linear_model import Lasso\n",
        "lasso_reg = Lasso(alpha=0.1)\n",
        "lasso_reg.fit(X, y)\n",
        "lasso_reg.predict([[1.5]])"
      ],
      "execution_count": 81,
      "outputs": [
        {
          "output_type": "execute_result",
          "data": {
            "text/plain": [
              "array([5.21448093])"
            ]
          },
          "metadata": {
            "tags": []
          },
          "execution_count": 81
        }
      ]
    },
    {
      "cell_type": "code",
      "metadata": {
        "id": "u9pOLPorMU-j",
        "colab_type": "code",
        "colab": {
          "base_uri": "https://localhost:8080/",
          "height": 35
        },
        "outputId": "515dcae6-2e1d-4489-fc10-0c0b57b9d73b"
      },
      "source": [
        "# Example using SGD\n",
        "sgd_reg = SGDRegressor(penalty=\"l1\")\n",
        "sgd_reg.fit(X, y.ravel())\n",
        "sgd_reg.predict([[1.5]])"
      ],
      "execution_count": 82,
      "outputs": [
        {
          "output_type": "execute_result",
          "data": {
            "text/plain": [
              "array([5.2412248])"
            ]
          },
          "metadata": {
            "tags": []
          },
          "execution_count": 82
        }
      ]
    },
    {
      "cell_type": "markdown",
      "metadata": {
        "id": "m7xq4MLyPVe4",
        "colab_type": "text"
      },
      "source": [
        "### Elastic Net\n",
        "Elastic Net is a middle ground between Ridge Regression and Lasso Regression. The regularization term is a simple mix of both Ridge and Lasso’s regularization terms, and you can control the mix ratio r. When r = 0, Elastic Net is equivalent to Ridge Regression, and when r = 1, it is equivalent to Lasso Regression.\n",
        "\n",
        "Cost Function: <br>\n",
        "$ J(\\theta) = MSE(\\theta) \n",
        "+ r \\alpha \\sum_{i=1}^n |\\theta_i|\n",
        "+ \\frac{1-r}{2}\\alpha \\sum_{i=1}^{n} |\\theta_i|$\n",
        "\n",
        "Here is a short example that uses Scikit-Learn’s ElasticNet (l1_ratio corresponds to the mix ratio r):\n"
      ]
    },
    {
      "cell_type": "code",
      "metadata": {
        "id": "hHOgVfJvObxy",
        "colab_type": "code",
        "colab": {
          "base_uri": "https://localhost:8080/",
          "height": 35
        },
        "outputId": "233525b2-4223-4e91-ed8c-4ac23048fed9"
      },
      "source": [
        "from sklearn.linear_model import ElasticNet\n",
        "elastic_net = ElasticNet(alpha=0.1, l1_ratio=0.5)\n",
        "elastic_net.fit(X, y)\n",
        "elastic_net.predict([[1.5]])"
      ],
      "execution_count": 83,
      "outputs": [
        {
          "output_type": "execute_result",
          "data": {
            "text/plain": [
              "array([5.21300664])"
            ]
          },
          "metadata": {
            "tags": []
          },
          "execution_count": 83
        }
      ]
    },
    {
      "cell_type": "markdown",
      "metadata": {
        "id": "2CoeSYlhWZt0",
        "colab_type": "text"
      },
      "source": [
        "### Early Stopping\n",
        "A very different way to regularize iterative learning algorithms such as Gradient Descent is to stop training as soon as the validation error reaches a minimum. This is called early stopping. Here is an example:\n",
        "```Python\n",
        "from sklearn.base import clone\n",
        "from sklearn.pipeline import Pipeline\n",
        "from sklearn.preprocessing import StandardScaler\n",
        "\n",
        "# prepare the data\n",
        "poly_scaler = Pipeline(\n",
        "    [\n",
        "     (\"poly_features\", PolynomialFeatures(degree=90, include_bias=False)),\n",
        "     (\"std_scaler\", StandardScaler())\n",
        "    ]\n",
        ")\n",
        "\n",
        "X_train_poly_scaled = poly_scaler.fit_transform(X_train)\n",
        "X_val_poly_scaled = poly_scaler.transform(X_val)\n",
        "\n",
        "sgd_reg = SGDRegressor(max_iter=1, \n",
        "                       tol=-np.infty, \n",
        "                       warm_start=True, \n",
        "                       penalty=None, \n",
        "                       learning_rate=\"constant\", \n",
        "                       eta0=0.0005)\n",
        "\n",
        "minimum_val_error = float(\"inf\")\n",
        "best_epoch = None\n",
        "best_model = None\n",
        "\n",
        "for epoch in range(1000):\n",
        "    sgd_reg.fit(X_train_poly_scaled, y_train) # continues where it left off\n",
        "    y_val_predict = sgd_reg.predict(X_val_poly_scaled)\n",
        "    val_error = mean_squared_error(y_val, y_val_predict)\n",
        "    if val_error < minimum_val_error:\n",
        "        minimum_val_error = val_error\n",
        "        best_epoch = epoch\n",
        "        best_model = clone(sgd_reg)\n",
        "```\n",
        "\n",
        "Note that with warm_start=True, when the fit() method is called it continues train‐ ing where it left off, instead of restarting from scratch."
      ]
    },
    {
      "cell_type": "markdown",
      "metadata": {
        "id": "6FjAgPuYYlFY",
        "colab_type": "text"
      },
      "source": [
        "## Logistic Regression\n",
        "Logistic Regression (also called Logit Regression) is commonly used to estimate the probability that an instance belongs to a particular class (e.g., what is the probability that this email is spam?). If the estimated probability is greater than 50%, then the model predicts that the instance belongs to that class (called the positive class, labeled “1”), and otherwise it predicts that it does not (i.e., it belongs to the negative class, labeled “0”). This makes it a binary classifier.\n"
      ]
    },
    {
      "cell_type": "markdown",
      "metadata": {
        "id": "4TtyHFWlaL-l",
        "colab_type": "text"
      },
      "source": [
        "### Estimating Probabilities\n",
        "Just like a Linear Regression model, a Logistic Regression model computes a weighted sum of the input features (plus a bias term), but instead of outputting the result directly like the Linear Regression model does, it outputs the logistic of this result. \n",
        "\n",
        "Logistic Regression model estimated probability:<br>\n",
        "$\\hat{p} = h_\\theta (x) = \\sigma(x^T \\theta)$\n",
        "\n",
        "$\\sigma(.)$ is sigmod function that outputs a number between 0 and 1.\n",
        "\n",
        "Logistic Function:<br>\n",
        "$\\sigma(t) =  \\frac{1}{1 + \\exp^{(-t)}}$\n",
        "\n",
        "Once the Logistic Regression model has estimated the probability $\\hat{p}= h_θ(x)$ that an instance x belongs to the positive class, it can make its prediction ŷ easily.\n",
        "\n",
        "Logistic Regression model prediction:<br>\n",
        "$\\hat{y} = \\left\\{ \\begin{array}{rl}\n",
        " 0 &\\mbox{ if $\\hat{p}$ < 0.5 } \\\\\n",
        " 1 &\\mbox{ if $\\hat{p} \\geq $  0.5 }\n",
        "\\end{array} \\right. $\n",
        "\n",
        "σ(t) < 0.5 when t < 0, and σ(t) ≥ 0.5 when t ≥ 0, so a Logistic Regression\n",
        "model predicts 1 if x⊺ θ is positive and 0 if it is negative."
      ]
    },
    {
      "cell_type": "markdown",
      "metadata": {
        "id": "MYKq4TmjnMvK",
        "colab_type": "text"
      },
      "source": [
        "### Training and Cost Function\n",
        "The objective of Logistic Regression training is to set the parameter vector θ so that the model estimates high probabilities for positive instances (y = 1) and low probabilities for negative instances (y = 0). This idea is captured by the cost function for a single training instance x.\n",
        "\n",
        "Cost Function of single training instance:<br>\n",
        "$\n",
        "c(\\theta) = \\left\\{ \n",
        "    \\begin{array}{rl}\n",
        "        -log(\\hat{p}) &\\mbox{ if y = 1 } \\\\\n",
        "        -log(1-\\hat{p}) &\\mbox{ if y = 0 }\n",
        "    \\end{array} \\right. \n",
        "$\n",
        "\n",
        "This cost function makes sense because –log(t) grows very large when t approaches 0, so the cost will be large if the model estimates a probability close to 0 for a positive instance, and it will also be very large if the model estimates a probability close to 1 for a negative instance. On the other hand, –log(t) is close to 0 when t is close to 1, so the cost will be close to 0 if the estimated probability is close to 0 for a negative instance or close to 1 for a positive instance, which is precisely what we want.\n",
        "\n",
        "The cost function over the whole training set is the average cost over all training instances. It can be written in a single expression called the log loss.\n",
        "\n",
        "Log Loss: <br>\n",
        "$J(\\theta) = -\\frac{1}{m} \\sum_{i=1}^{m} [ y^{(i)} log(\\hat{p}^{(i)}) + (1-y^{(i)}) log(1-\\hat{p}^{(i)})]$\n",
        "\n",
        "The bad news is that there is no known closed-form equation to compute the value of θ that minimizes this cost function (there is no equivalent of the Normal Equation). The good news is that this cost function is convex, so Gradient Descent (or any other optimization algorithm) is guaranteed to find the global minimum (if the learning rate is not too large and you wait long enough).\n",
        "\n",
        "Logistic cost function partial derivatives: <br>\n",
        "$\\frac{\\partial}{\\partial \\theta_j} J(\\theta) = \\frac{1}{m} \\sum_{i=1}^{m} (\\sigma(\\theta^T x^{(i)}) - y^{(i)})x_j^{(i)}$\n",
        "\n",
        "For each instance it computes the prediction error and multiplies it by the $j^{th}$ feature value, and then it computes the average over all training instances. Once you have the gradient vector containing all the partial derivatives, you can use it in the Batch Gradient Descent algorithm."
      ]
    },
    {
      "cell_type": "markdown",
      "metadata": {
        "id": "k1EzlWZ7XK69",
        "colab_type": "text"
      },
      "source": [
        "### Decision Boundaries\n",
        "Let’s use the iris dataset to illustrate Logistic Regression and try to build a classifier to detect the Iris virginica type based only on the petal width feature. "
      ]
    },
    {
      "cell_type": "code",
      "metadata": {
        "id": "thV01zFqXJH1",
        "colab_type": "code",
        "colab": {
          "base_uri": "https://localhost:8080/",
          "height": 1000
        },
        "outputId": "f028a278-764e-489c-e300-15cd3001745e"
      },
      "source": [
        "from sklearn import datasets\n",
        "iris = datasets.load_iris()\n",
        "print(iris.keys())\n",
        "print(iris['DESCR'])\n",
        "X = iris[\"data\"][:, 3:] # petal width\n",
        "y = (iris[\"target\"] == 2).astype(np.int) # 1 if Iris virginica, else 0"
      ],
      "execution_count": 84,
      "outputs": [
        {
          "output_type": "stream",
          "text": [
            "dict_keys(['data', 'target', 'target_names', 'DESCR', 'feature_names', 'filename'])\n",
            ".. _iris_dataset:\n",
            "\n",
            "Iris plants dataset\n",
            "--------------------\n",
            "\n",
            "**Data Set Characteristics:**\n",
            "\n",
            "    :Number of Instances: 150 (50 in each of three classes)\n",
            "    :Number of Attributes: 4 numeric, predictive attributes and the class\n",
            "    :Attribute Information:\n",
            "        - sepal length in cm\n",
            "        - sepal width in cm\n",
            "        - petal length in cm\n",
            "        - petal width in cm\n",
            "        - class:\n",
            "                - Iris-Setosa\n",
            "                - Iris-Versicolour\n",
            "                - Iris-Virginica\n",
            "                \n",
            "    :Summary Statistics:\n",
            "\n",
            "    ============== ==== ==== ======= ===== ====================\n",
            "                    Min  Max   Mean    SD   Class Correlation\n",
            "    ============== ==== ==== ======= ===== ====================\n",
            "    sepal length:   4.3  7.9   5.84   0.83    0.7826\n",
            "    sepal width:    2.0  4.4   3.05   0.43   -0.4194\n",
            "    petal length:   1.0  6.9   3.76   1.76    0.9490  (high!)\n",
            "    petal width:    0.1  2.5   1.20   0.76    0.9565  (high!)\n",
            "    ============== ==== ==== ======= ===== ====================\n",
            "\n",
            "    :Missing Attribute Values: None\n",
            "    :Class Distribution: 33.3% for each of 3 classes.\n",
            "    :Creator: R.A. Fisher\n",
            "    :Donor: Michael Marshall (MARSHALL%PLU@io.arc.nasa.gov)\n",
            "    :Date: July, 1988\n",
            "\n",
            "The famous Iris database, first used by Sir R.A. Fisher. The dataset is taken\n",
            "from Fisher's paper. Note that it's the same as in R, but not as in the UCI\n",
            "Machine Learning Repository, which has two wrong data points.\n",
            "\n",
            "This is perhaps the best known database to be found in the\n",
            "pattern recognition literature.  Fisher's paper is a classic in the field and\n",
            "is referenced frequently to this day.  (See Duda & Hart, for example.)  The\n",
            "data set contains 3 classes of 50 instances each, where each class refers to a\n",
            "type of iris plant.  One class is linearly separable from the other 2; the\n",
            "latter are NOT linearly separable from each other.\n",
            "\n",
            ".. topic:: References\n",
            "\n",
            "   - Fisher, R.A. \"The use of multiple measurements in taxonomic problems\"\n",
            "     Annual Eugenics, 7, Part II, 179-188 (1936); also in \"Contributions to\n",
            "     Mathematical Statistics\" (John Wiley, NY, 1950).\n",
            "   - Duda, R.O., & Hart, P.E. (1973) Pattern Classification and Scene Analysis.\n",
            "     (Q327.D83) John Wiley & Sons.  ISBN 0-471-22361-1.  See page 218.\n",
            "   - Dasarathy, B.V. (1980) \"Nosing Around the Neighborhood: A New System\n",
            "     Structure and Classification Rule for Recognition in Partially Exposed\n",
            "     Environments\".  IEEE Transactions on Pattern Analysis and Machine\n",
            "     Intelligence, Vol. PAMI-2, No. 1, 67-71.\n",
            "   - Gates, G.W. (1972) \"The Reduced Nearest Neighbor Rule\".  IEEE Transactions\n",
            "     on Information Theory, May 1972, 431-433.\n",
            "   - See also: 1988 MLC Proceedings, 54-64.  Cheeseman et al\"s AUTOCLASS II\n",
            "     conceptual clustering system finds 3 classes in the data.\n",
            "   - Many, many more ...\n"
          ],
          "name": "stdout"
        }
      ]
    },
    {
      "cell_type": "code",
      "metadata": {
        "id": "aNNZRgwsx7Gw",
        "colab_type": "code",
        "colab": {
          "base_uri": "https://localhost:8080/",
          "height": 109
        },
        "outputId": "280d19d9-3b32-42d9-e0ff-210aac2826dc"
      },
      "source": [
        "# logistic Regression\n",
        "from sklearn.linear_model import LogisticRegression\n",
        "\n",
        "log_reg = LogisticRegression()\n",
        "log_reg.fit(X, y)"
      ],
      "execution_count": 85,
      "outputs": [
        {
          "output_type": "execute_result",
          "data": {
            "text/plain": [
              "LogisticRegression(C=1.0, class_weight=None, dual=False, fit_intercept=True,\n",
              "                   intercept_scaling=1, l1_ratio=None, max_iter=100,\n",
              "                   multi_class='auto', n_jobs=None, penalty='l2',\n",
              "                   random_state=None, solver='lbfgs', tol=0.0001, verbose=0,\n",
              "                   warm_start=False)"
            ]
          },
          "metadata": {
            "tags": []
          },
          "execution_count": 85
        }
      ]
    },
    {
      "cell_type": "code",
      "metadata": {
        "id": "NmYoPcK945ZQ",
        "colab_type": "code",
        "colab": {
          "base_uri": "https://localhost:8080/",
          "height": 265
        },
        "outputId": "7b70f9df-dec6-4d42-b199-a0c346115d0a"
      },
      "source": [
        "# model’s estimated probabilities for flowers with petal widths varying from 0 cm to 3 cm\n",
        "X_new = np.linspace(0, 3, 1000).reshape(-1, 1)\n",
        "y_proba = log_reg.predict_proba(X_new)\n",
        "plt.plot(X_new, y_proba[:, 1], \"g-\", label=\"Iris virginica\")\n",
        "plt.plot(X_new, y_proba[:, 0], \"b--\", label=\"Not Iris virginica\")\n",
        "plt.legend()\n",
        "plt.grid()\n",
        "plt.show()"
      ],
      "execution_count": 86,
      "outputs": [
        {
          "output_type": "display_data",
          "data": {
            "image/png": "[encoded data removed]",
            "text/plain": [
              "<Figure size 432x288 with 1 Axes>"
            ]
          },
          "metadata": {
            "tags": [],
            "needs_background": "light"
          }
        }
      ]
    },
    {
      "cell_type": "markdown",
      "metadata": {
        "id": "s8LosGbL5xhj",
        "colab_type": "text"
      },
      "source": [
        "### Softmax Regression\n",
        "The Logistic Regression model can be generalized to support multiple classes directly, without having to train and combine multiple binary classifiers. This is called Softmax Regression, or Multinomial Logistic Regression.\n",
        "\n",
        "When given an instance x, the Softmax Regression model first computes a score $s_k(x)$ for each class k, then estimates the probability of each class by applying the softmax function (also called the normalized exponential) to the scores. The equation to compute $s_k(x)$ should look familiar, as it is just like the equation for Linear Regression prediction \n",
        "\n",
        "Softmax score for class k:<br>\n",
        "$s_k(x) = x^T \\theta^{(k)}$\n",
        "\n",
        "Each class has its own dedicated parameter vector $θ^{(k)}$. All these vectors are typically stored as rows in a parameter matrix Θ.\n",
        "\n",
        "Once you have computed the score of every class for the instance x, you can estimate the probability pk that the instance belongs to class k by running the scores through the softmax function. The function computes the exponential of every score, then normalizes them (dividing by the sum of all the exponentials). The scores are generally called logits or log-odds (although they are actually unnormalized log-odds).\n",
        "\n",
        "Softmax Function:<br>\n",
        "$\\hat{p} = \\sigma(s(x))_k = \\frac{\\exp{(s_k(x))}}{\\sum_{j=1}^K \\exp{(s_k(x))}}$\n",
        "\n",
        "In this Equation:\n",
        "* K is the number of classes.\n",
        "* s(x) is a vector containing the scores of each class for the instance x.\n",
        "* $\\sigma(s(x))_k$ is the estimated probability that the instance x belongs to class k, given the scores of each class for that instance.\n",
        "\n",
        "Just like the Logistic Regression classifier, the Softmax Regression classifier predicts the class with the highest estimated probability.\n",
        "\n",
        "Softmax Regression classifier prediction:<br>\n",
        "$\\hat{y} = \\underset{k}{argmax} \\sigma(s(x))_k = \\underset{k}{argmax} s(x)_k = \\underset{k}{argmax} ((\\theta^{(k)})^Tx)$\n",
        "\n",
        "The argmax operator returns the value of a variable that maximizes a function. In this equation, it returns the value of k that maximizes the estimated probability $\\sigma(s(x))_k$.\n",
        "\n",
        "The objective of Softmax Regression is to have a model that estimates a high probability for the target class (and consequently a low probability for the other classes). Minimizing the cost function, called the cross entropy, should lead to this objective because it penalizes the model when it estimates a low probability for a target class. Cross entropy is frequently used to measure how well a set of estimated class probabilities matches the target classes.\n",
        "\n",
        "Cross entropy Cost function:<br>\n",
        "$J(\\Theta) = -\\frac{1}{m} \\sum_{i=1}^m \\sum_{k=1}^{K} y_k^{(i)} log(\\hat{p}_k^{(i)})$\n",
        "\n",
        "Here, $y_k^{(i)}$ is the target probability that the ith instance belongs to class k. In general, it is either equal to 1 or 0, depending on whether the instance belongs to the class or not. When K=2, this cost function is equivalent to the Logistic Regression’s cost function."
      ]
    },
    {
      "cell_type": "markdown",
      "metadata": {
        "id": "JsHf9e1dAe4a",
        "colab_type": "text"
      },
      "source": [
        "Cross entropy gradient vector for class k:<br>\n",
        "$ \\nabla_{\\theta^{(k)}} J(\\Theta) = \\frac{1}{m}\\sum_{i=1}^m (\\hat{p}_k^{(i)} - y_k^{(i)})x^{(i)}$\n",
        "\n",
        "Now you can compute the gradient vector for every class, then use Gradient Descent (or any other optimization algorithm) to find the parameter matrix Θ that minimizes the cost function.\n",
        "\n",
        "Let’s use Softmax Regression to classify the iris flowers into all three classes. ScikitLearn’s LogisticRegression uses one-versus-the-rest by default when you train it on more than two classes, but you can set the multi_class hyperparameter to \"multino mial\" to switch it to Softmax Regression. You must also specify a solver that supports Softmax Regression, such as the \"lbfgs\" solver (see Scikit-Learn’s documentation for more details). It also applies ℓ2 regularization by default, which you can control using the hyperparameter C:"
      ]
    },
    {
      "cell_type": "code",
      "metadata": {
        "id": "7fy-LLCx48vQ",
        "colab_type": "code",
        "colab": {
          "base_uri": "https://localhost:8080/",
          "height": 109
        },
        "outputId": "7d859005-6249-4ae4-8070-3f407acccebc"
      },
      "source": [
        "X = iris[\"data\"][:, (2, 3)] # petal length, petal width\n",
        "y = iris[\"target\"]\n",
        "\n",
        "softmax_reg = LogisticRegression(multi_class=\"multinomial\",solver=\"lbfgs\", C=10)\n",
        "softmax_reg.fit(X, y)"
      ],
      "execution_count": 87,
      "outputs": [
        {
          "output_type": "execute_result",
          "data": {
            "text/plain": [
              "LogisticRegression(C=10, class_weight=None, dual=False, fit_intercept=True,\n",
              "                   intercept_scaling=1, l1_ratio=None, max_iter=100,\n",
              "                   multi_class='multinomial', n_jobs=None, penalty='l2',\n",
              "                   random_state=None, solver='lbfgs', tol=0.0001, verbose=0,\n",
              "                   warm_start=False)"
            ]
          },
          "metadata": {
            "tags": []
          },
          "execution_count": 87
        }
      ]
    },
    {
      "cell_type": "code",
      "metadata": {
        "id": "QEHKOHn3B7bp",
        "colab_type": "code",
        "colab": {
          "base_uri": "https://localhost:8080/",
          "height": 54
        },
        "outputId": "2df78e22-f64c-465c-8f2b-01186c4cd7de"
      },
      "source": [
        "# Predict petal 5cm long 2cm wide\n",
        "print(f\"class - {softmax_reg.predict([[5, 2]])}\")\n",
        "print(f\"Probabs - {softmax_reg.predict_proba([[5, 2]])}\")"
      ],
      "execution_count": 88,
      "outputs": [
        {
          "output_type": "stream",
          "text": [
            "class - [2]\n",
            "Probabs - [[6.38014896e-07 5.74929995e-02 9.42506362e-01]]\n"
          ],
          "name": "stdout"
        }
      ]
    }
  ]
}
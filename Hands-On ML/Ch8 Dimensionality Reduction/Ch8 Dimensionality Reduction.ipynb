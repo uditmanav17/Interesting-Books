{
  "nbformat": 4,
  "nbformat_minor": 0,
  "metadata": {
    "colab": {
      "name": "Ch8 Dimensionality Reduction.ipynb",
      "provenance": [],
      "collapsed_sections": [],
      "toc_visible": true
    },
    "kernelspec": {
      "name": "python3",
      "display_name": "Python 3"
    },
    "accelerator": "GPU"
  },
  "cells": [
    {
      "cell_type": "markdown",
      "metadata": {
        "id": "IsK1793-Cz2G",
        "colab_type": "text"
      },
      "source": [
        "# Dimensionality Reduction"
      ]
    },
    {
      "cell_type": "markdown",
      "metadata": {
        "id": "6lErdVerG1RH",
        "colab_type": "text"
      },
      "source": [
        "## The Curse of Dimensionality\n",
        "Many Machine Learning problems involve thousands or even millions of features for each training instance. Not only do all these features make training extremely slow, but they can also make it much harder to find a good solution, as we will see. This problem is often referred to as the curse of dimensionality.\n",
        "\n",
        "In theory, one solution to the curse of dimensionality could be to increase the size of the training set to reach a sufficient density of training instances. Unfortunately, in practice, the number of training instances required to reach a given density grows exponentially with the number of dimensions. With just 100 features (significantly fewer than in the MNIST problem), you would need more training instances than atoms in the observable universe in order for training instances to be within 0.1 of each other on average, assuming they were spread out uniformly across all dimensions."
      ]
    },
    {
      "cell_type": "markdown",
      "metadata": {
        "id": "VpdSoNaFLQ2a",
        "colab_type": "text"
      },
      "source": [
        "## Main Approaches for Dimensionality Reduction\n",
        "Before we dive into specific dimensionality reduction algorithms, let’s take a look at the two main approaches to reducing dimensionality: projection and Manifold Learning."
      ]
    },
    {
      "cell_type": "markdown",
      "metadata": {
        "id": "41kWjjWWLof9",
        "colab_type": "text"
      },
      "source": [
        "### Projection\n",
        "In most real-world problems, training instances are not spread out uniformly across all dimensions. Many features are almost constant, while others are highly correlated. As a result, all training instances lie within (or close to) a much lower-dimensional subspace of the high-dimensional space. \n",
        "\n",
        "If that's the case, we can simply project the datapoints from this dimension to lower ones. However, projection is not always the best approach to dimensionality reduction. In many cases the subspace may twist and turn, such as in the famous Swiss roll toy dataset."
      ]
    },
    {
      "cell_type": "markdown",
      "metadata": {
        "id": "kVkELmqOMnN6",
        "colab_type": "text"
      },
      "source": [
        "### Manifold Learning\n",
        "The Swiss roll is an example of a 2D manifold. Put simply, a 2D manifold is a 2D shape that can be bent and twisted in a higher-dimensional space. More generally, a d-dimensional manifold is a part of an n-dimensional space (where d < n) that locally resembles a d-dimensional hyperplane. In the case of the Swiss roll, d = 2 and n = 3: it locally resembles a 2D plane, but it is rolled in the third dimension.\n",
        "\n",
        "Many dimensionality reduction algorithms work by modeling the manifold on which the training instances lie; this is called Manifold Learning. It relies on the manifold assumption, also called the manifold hypothesis, which holds that most real-world high-dimensional datasets lie close to a much lower-dimensional manifold. This assumption is very often empirically observed.\n",
        "\n"
      ]
    },
    {
      "cell_type": "markdown",
      "metadata": {
        "id": "021VBOd_Ov-O",
        "colab_type": "text"
      },
      "source": [
        "## Principal Component Analysis (PCA)\n",
        "Principal Component Analysis (PCA) is by far the most popular dimensionality reduc‐ tion algorithm. First it identifies the hyperplane that lies closest to the data, and then it projects the data onto it."
      ]
    },
    {
      "cell_type": "markdown",
      "metadata": {
        "id": "wTklzTLePAcN",
        "colab_type": "text"
      },
      "source": [
        "### Preserving the Variance\n",
        "Before you can project the training set onto a lower-dimensional hyperplane, you first need to choose the right hyperplane. It is reasonable to select the axis that preserves the maximum amount of variance, as it will most likely lose less information than the other projections. Another way to justify this choice is that it is the axis that minimizes the mean squared distance between the original dataset and its projection onto that axis. This is the rather simple idea behind PCA."
      ]
    },
    {
      "cell_type": "markdown",
      "metadata": {
        "id": "eIqtBqocQXEj",
        "colab_type": "text"
      },
      "source": [
        "### Principal Components\n",
        "PCA identifies the axis that accounts for the largest amount of variance in the training set. It also finds a second axis, orthogonal to the first one, that accounts for the largest amount of remaining variance. In this 2D example there is no choice: it is the dotted line. If it were a higher-dimensional dataset, PCA would also find a third axis, orthogonal to both previous axes, and a fourth, a fifth, and so on—as many axes as the number of dimensions in the dataset.\n",
        "\n",
        "NOTE: For each principal component, PCA finds a zero-centered unit vector pointing in the direction of the PC. Since two opposing unit vectors lie on the same axis, the direction of the unit vectors returned by PCA is not stable: if you perturb the training set slightly and run PCA again, the unit vectors may point in the opposite direction as the original vectors. However, they will generally still lie on the same axes. In some cases, a pair of unit vectors may even rotate or swap (if the variances along these two axes are close), but the plane they define will generally remain the same.\n",
        "\n",
        "So how can you find the principal components of a training set? Luckily, there is a standard matrix factorization technique called ***Singular Value Decomposition (SVD)*** that can decompose the training set matrix $X$ into the matrix multiplication of three matrices $U, Σ, V^T$, where $V$ contains the unit vectors that define all the principal components that we are looking for.\n",
        "\n",
        "The following Python code uses NumPy’s svd() function to obtain all the principal components of the training set, then extracts the two unit vectors that define the first two PCs:\n",
        "\n",
        "```Python\n",
        "import numpy as np\n",
        "X_centered = X - X.mean(axis=0)\n",
        "U, s, Vt = np.linalg.svd(X_centered)\n",
        "c1 = Vt.T[:, 0]\n",
        "c2 = Vt.T[:, 1]\n",
        "```"
      ]
    },
    {
      "cell_type": "markdown",
      "metadata": {
        "id": "egYptuTaWqW6",
        "colab_type": "text"
      },
      "source": [
        "NOTE: PCA assumes that the dataset is centered around the origin. Scikit-Learn’s PCA classes take care of centering the data. If you implement PCA yourself (as in the preceding example), or if you use other libraries, don’t forget to center the data first."
      ]
    },
    {
      "cell_type": "markdown",
      "metadata": {
        "id": "GQl7ThoISqHe",
        "colab_type": "text"
      },
      "source": [
        "### Projecting Down to d Dimensions\n",
        "\n",
        "Once you have identified all the principal components, you can reduce the dimensionality of the dataset down to d dimensions by projecting it onto the hyperplane defined by the first d principal components. Selecting this hyperplane ensures that the projection will preserve as much variance as possible.\n",
        "\n",
        "To project the training set onto the hyperplane and obtain a reduced dataset $X_{d-proj}$ of dimensionality d, compute the matrix multiplication of the training set matrix $X$ by the matrix $W_d$, defined as the matrix containing the first d columns of $V$.\n",
        "\n",
        "***Projecting the training set down to d dimensions*** <br>\n",
        "$X_{d-proj} = X W_d$\n",
        "\n",
        "The following Python code projects the training set onto the plane defined by the first two principal components:\n",
        "```Python\n",
        "W2 = Vt.T[:, :2]\n",
        "X2D = X_centered.dot(W2)\n",
        "```\n"
      ]
    },
    {
      "cell_type": "markdown",
      "metadata": {
        "id": "L5FyPnSBUXpf",
        "colab_type": "text"
      },
      "source": [
        "### Using Scikit-Learn\n",
        "\n",
        "Scikit-Learn’s PCA class uses SVD decomposition to implement PCA, just like we did earlier in this chapter. The following code applies PCA to reduce the dimensionality of the dataset down to two dimensions (note that it automatically takes care of centering the data):\n",
        "\n",
        "```Python\n",
        "from sklearn.decomposition import PCA\n",
        "pca = PCA(n_components = 2)\n",
        "X2D = pca.fit_transform(X)\n",
        "```\n",
        "\n",
        "After fitting the PCA transformer to the dataset, its components_ attribute holds the transpose of Wd (e.g., the unit vector that defines the first principal component is equal to pca.components_.T[:, 0])."
      ]
    },
    {
      "cell_type": "code",
      "metadata": {
        "id": "wIGk02iHX7Y5",
        "colab_type": "code",
        "colab": {
          "base_uri": "https://localhost:8080/",
          "height": 54
        },
        "outputId": "73d223c5-1fd5-4015-d8d4-d38f8cf9a218"
      },
      "source": [
        "from sklearn.datasets import fetch_openml\n",
        "import numpy as np\n",
        "\n",
        "mnist = fetch_openml('mnist_784', version=1)\n",
        "X, y = mnist[\"data\"], mnist[\"target\"]\n",
        "print(f\"X.shape - {X.shape}\")\n",
        "print(f\"y.shape - {y.shape}\")"
      ],
      "execution_count": 1,
      "outputs": [
        {
          "output_type": "stream",
          "text": [
            "X.shape - (70000, 784)\n",
            "y.shape - (70000,)\n"
          ],
          "name": "stdout"
        }
      ]
    },
    {
      "cell_type": "code",
      "metadata": {
        "id": "Keq91zloXy2G",
        "colab_type": "code",
        "colab": {
          "base_uri": "https://localhost:8080/",
          "height": 35
        },
        "outputId": "6c6de7cc-a601-4c18-f643-71079e9bbece"
      },
      "source": [
        "from sklearn.decomposition import PCA\n",
        "pca = PCA(n_components = 2)\n",
        "X2D = pca.fit_transform(X)\n",
        "print(f\"X2D.shape - {X2D.shape}\")"
      ],
      "execution_count": null,
      "outputs": [
        {
          "output_type": "stream",
          "text": [
            "X2D.shape - (70000, 2)\n"
          ],
          "name": "stdout"
        }
      ]
    },
    {
      "cell_type": "markdown",
      "metadata": {
        "id": "Lvs9K_LZUeZz",
        "colab_type": "text"
      },
      "source": [
        "### Explained Variance Ratio\n",
        "Another useful piece of information is the explained variance ratio of each principal component, available via the explained_variance_ratio_ variable. The ratio indicates the proportion of the dataset’s variance that lies along each principal component."
      ]
    },
    {
      "cell_type": "code",
      "metadata": {
        "id": "HT67oGpgYZRI",
        "colab_type": "code",
        "colab": {
          "base_uri": "https://localhost:8080/",
          "height": 35
        },
        "outputId": "09a80f43-87a2-47e2-bc12-d8169ff00a16"
      },
      "source": [
        "pca.explained_variance_ratio_"
      ],
      "execution_count": null,
      "outputs": [
        {
          "output_type": "execute_result",
          "data": {
            "text/plain": [
              "array([0.09746116, 0.07155445])"
            ]
          },
          "metadata": {
            "tags": []
          },
          "execution_count": 6
        }
      ]
    },
    {
      "cell_type": "markdown",
      "metadata": {
        "id": "TaqjsZtZVOJF",
        "colab_type": "text"
      },
      "source": [
        "### Choosing the Right Number of Dimensions\n",
        "\n",
        "Instead of arbitrarily choosing the number of dimensions to reduce down to, it is simpler to choose the number of dimensions that add up to a sufficiently large portion of the variance (e.g., 95%). Unless, of course, you are reducing dimensionality for data visualization—in that case you will want to reduce the dimensionality down to 2 or 3.\n",
        "\n",
        "The following code performs PCA without reducing dimensionality, then computes the minimum number of dimensions required to preserve 95% of the training set’s variance:\n"
      ]
    },
    {
      "cell_type": "code",
      "metadata": {
        "id": "GOATB44_CqEx",
        "colab_type": "code",
        "colab": {
          "base_uri": "https://localhost:8080/",
          "height": 54
        },
        "outputId": "d2a35d59-3760-4ae8-af30-eb87b8b10539"
      },
      "source": [
        "pca = PCA()\n",
        "pca.fit(X)\n",
        "cumsum = np.cumsum(pca.explained_variance_ratio_)\n",
        "d = np.argmax(cumsum >= 0.95) + 1\n",
        "print(f\"d - {d}\")\n",
        "print(f\"pca.explained_variance_ratio_ SUM - {np.sum(pca.explained_variance_ratio_)}\")"
      ],
      "execution_count": null,
      "outputs": [
        {
          "output_type": "stream",
          "text": [
            "d - 154\n",
            "pca.explained_variance_ratio_ SUM - 1.0000000000000002\n"
          ],
          "name": "stdout"
        }
      ]
    },
    {
      "cell_type": "markdown",
      "metadata": {
        "id": "WSCKQg_EY9KW",
        "colab_type": "text"
      },
      "source": [
        "You could then set **n_components=d** and run PCA again. But there is a much better option: instead of specifying the number of principal components you want to preserve, you can set n_components to be a float between 0.0 and 1.0, indicating the ratio of variance you wish to preserve:\n"
      ]
    },
    {
      "cell_type": "code",
      "metadata": {
        "id": "1hUc51t9YteR",
        "colab_type": "code",
        "colab": {
          "base_uri": "https://localhost:8080/",
          "height": 35
        },
        "outputId": "c5e9271f-4d0b-41c8-c29a-c2ecee6696dd"
      },
      "source": [
        "pca = PCA(n_components=0.95)\n",
        "X_reduced = pca.fit_transform(X)\n",
        "print(f\"pca.explained_variance_ratio_ SUM - {np.sum(pca.explained_variance_ratio_)}\")"
      ],
      "execution_count": null,
      "outputs": [
        {
          "output_type": "stream",
          "text": [
            "pca.explained_variance_ratio_ SUM - 0.9503499702078614\n"
          ],
          "name": "stdout"
        }
      ]
    },
    {
      "cell_type": "markdown",
      "metadata": {
        "id": "6O6mAx3IZGUl",
        "colab_type": "text"
      },
      "source": [
        "Yet another option is to plot the explained variance as a function of the number of dimensions (simply plot cumsum). There will usually be an elbow in the curve, where the explained variance stops growing fast. "
      ]
    },
    {
      "cell_type": "code",
      "metadata": {
        "id": "FesKARNQZ29q",
        "colab_type": "code",
        "colab": {
          "base_uri": "https://localhost:8080/",
          "height": 265
        },
        "outputId": "21cdd369-9da8-4734-cab4-1e9c95f30861"
      },
      "source": [
        "import matplotlib.pyplot as plt\n",
        "\n",
        "plt.plot(cumsum)\n",
        "plt.grid()"
      ],
      "execution_count": null,
      "outputs": [
        {
          "output_type": "display_data",
          "data": {
            "image/png": "[encoded data removed]",
            "text/plain": [
              "<Figure size 432x288 with 1 Axes>"
            ]
          },
          "metadata": {
            "tags": [],
            "needs_background": "light"
          }
        }
      ]
    },
    {
      "cell_type": "markdown",
      "metadata": {
        "id": "DiBLMI1maG6y",
        "colab_type": "text"
      },
      "source": [
        "### PCA for Compression\n",
        "\n",
        "After dimensionality reduction, the training set takes up much less space. As an example, try applying PCA to the MNIST dataset while preserving 95% of its variance. You should find that each instance will have just over 150 features, instead of the original 784 features. So, while most of the variance is preserved, the dataset is now less than 20% of its original size! This is a reasonable compression ratio, and you can see how this size reduction can speed up a classification algorithm (such as an SVM classifier) tremendously.\n",
        "\n",
        "It is also possible to decompress the reduced dataset back to 784 dimensions by applying the inverse transformation of the PCA projection. This won’t give you back the original data, since the projection lost a bit of information (within the 5% var‐ iance that was dropped), but it will likely be close to the original data. The mean squared distance between the original data and the reconstructed data (compressed and then decompressed) is called the reconstruction error.\n",
        "\n",
        "Let's have a look."
      ]
    },
    {
      "cell_type": "code",
      "metadata": {
        "id": "BEYl370IZ7Fa",
        "colab_type": "code",
        "colab": {
          "base_uri": "https://localhost:8080/",
          "height": 35
        },
        "outputId": "0843ebd4-f4bd-45b2-aea3-0abda87323d2"
      },
      "source": [
        "X_recovered = pca.inverse_transform(X_reduced)\n",
        "print(f\"X_recovered.shape - {X_recovered.shape}\")"
      ],
      "execution_count": null,
      "outputs": [
        {
          "output_type": "stream",
          "text": [
            "X_recovered.shape - (70000, 784)\n"
          ],
          "name": "stdout"
        }
      ]
    },
    {
      "cell_type": "code",
      "metadata": {
        "id": "3WNjxzfScuto",
        "colab_type": "code",
        "colab": {
          "base_uri": "https://localhost:8080/",
          "height": 283
        },
        "outputId": "3ad39fcd-75d3-4e3b-c5ac-cfe268a41254"
      },
      "source": [
        "# plot original data\n",
        "plt.imshow(X[0].reshape((28, -1)))"
      ],
      "execution_count": null,
      "outputs": [
        {
          "output_type": "execute_result",
          "data": {
            "text/plain": [
              "<matplotlib.image.AxesImage at 0x7f47e6ae9a20>"
            ]
          },
          "metadata": {
            "tags": []
          },
          "execution_count": 11
        },
        {
          "output_type": "display_data",
          "data": {
            "image/png": "[encoded data removed]",
            "text/plain": [
              "<Figure size 432x288 with 1 Axes>"
            ]
          },
          "metadata": {
            "tags": [],
            "needs_background": "light"
          }
        }
      ]
    },
    {
      "cell_type": "code",
      "metadata": {
        "id": "k2_rFqPycymz",
        "colab_type": "code",
        "colab": {
          "base_uri": "https://localhost:8080/",
          "height": 283
        },
        "outputId": "a35b32cc-bcfb-47bb-c426-5ce3e6367c56"
      },
      "source": [
        "# plot recovered data\n",
        "plt.imshow(X_recovered[0].reshape((28, -1)))"
      ],
      "execution_count": null,
      "outputs": [
        {
          "output_type": "execute_result",
          "data": {
            "text/plain": [
              "<matplotlib.image.AxesImage at 0x7f47e6a53fd0>"
            ]
          },
          "metadata": {
            "tags": []
          },
          "execution_count": 12
        },
        {
          "output_type": "display_data",
          "data": {
            "image/png": "[encoded data removed]",
            "text/plain": [
              "<Figure size 432x288 with 1 Axes>"
            ]
          },
          "metadata": {
            "tags": [],
            "needs_background": "light"
          }
        }
      ]
    },
    {
      "cell_type": "markdown",
      "metadata": {
        "id": "SI4rO0XDdv08",
        "colab_type": "text"
      },
      "source": [
        "### Randomized PCA\n",
        "If you set the **svd_solver** hyperparameter to \"randomized\", Scikit-Learn uses a stochastic algorithm called Randomized PCA that quickly finds an approximation of the first d principal components. Its computational complexity is $O(m × d^2) + O(d^3)$, instead of $O(m × n^2) + O(n^3)$ for the full SVD approach, so it is dramatically faster than full SVD when d is much smaller than n:"
      ]
    },
    {
      "cell_type": "code",
      "metadata": {
        "id": "8mY5l9-1dfFJ",
        "colab_type": "code",
        "colab": {
          "base_uri": "https://localhost:8080/",
          "height": 35
        },
        "outputId": "c439dbb7-87cc-49fc-b2e8-3bebbfdcf301"
      },
      "source": [
        "rnd_pca = PCA(n_components=154, svd_solver=\"randomized\")\n",
        "X_reduced = rnd_pca.fit_transform(X)\n",
        "print(f\"X_reduced.shape - {X_reduced.shape}\")"
      ],
      "execution_count": null,
      "outputs": [
        {
          "output_type": "stream",
          "text": [
            "X_reduced.shape - (70000, 154)\n"
          ],
          "name": "stdout"
        }
      ]
    },
    {
      "cell_type": "markdown",
      "metadata": {
        "id": "nH2YgJeGePdX",
        "colab_type": "text"
      },
      "source": [
        "By default, svd_solver is actually set to \"auto\": Scikit-Learn automatically uses the randomized PCA algorithm if m or n is greater than 500 and d is less than 80% of m or n, or else it uses the full SVD approach. If you want to force Scikit-Learn to use full SVD, you can set the svd_solver hyperparameter to \"full\"."
      ]
    },
    {
      "cell_type": "markdown",
      "metadata": {
        "id": "JI82wtdVfPYF",
        "colab_type": "text"
      },
      "source": [
        "### Incremental PCA\n",
        "One problem with the preceding implementations of PCA is that they require the whole training set to fit in memory in order for the algorithm to run. Fortunately, Incremental PCA (IPCA) algorithms have been developed. They allow you to split the training set into mini-batches and feed an IPCA algorithm one mini-batch at a time. This is useful for large training sets and for applying PCA online (i.e., on the fly, as new instances arrive). \n",
        "\n",
        "The following code splits the MNIST dataset into 100 mini-batches (using NumPy’s array_split() function) and feeds them to Scikit-Learn’s IncrementalPCA class5 to reduce the dimensionality of the MNIST dataset down to 154 dimensions (just like before). Note that you must call the partial_fit() method with each mini-batch, rather than the fit() method with the whole training set:\n"
      ]
    },
    {
      "cell_type": "code",
      "metadata": {
        "id": "JBe9w0cteIhp",
        "colab_type": "code",
        "colab": {
          "base_uri": "https://localhost:8080/",
          "height": 35
        },
        "outputId": "7564d8b6-6be9-41e8-cddc-f2632815c057"
      },
      "source": [
        "from sklearn.decomposition import IncrementalPCA\n",
        "\n",
        "n_batches = 100\n",
        "inc_pca = IncrementalPCA(n_components=154)\n",
        "for X_batch in np.array_split(X, n_batches):\n",
        "    inc_pca.partial_fit(X_batch)\n",
        "    X_reduced = inc_pca.transform(X)\n",
        "print(f\"X_reduced.shape - {X_reduced.shape}\")"
      ],
      "execution_count": null,
      "outputs": [
        {
          "output_type": "stream",
          "text": [
            "X_reduced.shape - (70000, 154)\n"
          ],
          "name": "stdout"
        }
      ]
    },
    {
      "cell_type": "markdown",
      "metadata": {
        "id": "8ew2S5Djg2bo",
        "colab_type": "text"
      },
      "source": [
        "Alternatively, you can use NumPy’s *memmap* class, which allows you to manipulate a large array stored in a binary file on disk as if it were entirely in memory; the class loads only the data it needs in memory, when it needs it. Since the IncrementalPCA class uses only a small part of the array at any given time, the memory usage remains under control. This makes it possible to call the usual fit() method, as you can see in the following code:\n",
        "```Python\n",
        "X_mm = np.memmap(filename, dtype=\"float32\", mode=\"readonly\", shape=(m, n))\n",
        "\n",
        "batch_size = m // n_batches\n",
        "inc_pca = IncrementalPCA(n_components=154, batch_size=batch_size)\n",
        "inc_pca.fit(X_mm)\n",
        "```"
      ]
    },
    {
      "cell_type": "markdown",
      "metadata": {
        "id": "PyO9tiPghHEo",
        "colab_type": "text"
      },
      "source": [
        "## Kernel PCA\n",
        "\n",
        "A mathematical technique that implicitly maps instances into a very high-dimensional space (called the feature space), enabling nonlinear classification and regression with Support Vector Machines. A linear decision boundary in the high-dimensional feature space corresponds to a complex nonlinear decision boundary in the original space.\n",
        "\n",
        "It turns out that the same trick can be applied to PCA, making it possible to perform complex nonlinear projections for dimensionality reduction. This is called Kernel PCA (kPCA). It is often good at preserving clusters of instances after projection, or sometimes even unrolling datasets that lie close to a twisted manifold.\n",
        "\n",
        "The following code uses Scikit-Learn’s KernelPCA class to perform kPCA with an RBF kernel.\n",
        "```Python\n",
        "from sklearn.decomposition import KernelPCA\n",
        "\n",
        "rbf_pca = KernelPCA(n_components = 2, kernel=\"rbf\", gamma=0.04)\n",
        "X_reduced = rbf_pca.fit_transform(X)\n",
        "print(f\"X_reduced.shape - {X_reduced.shape}\")  \n",
        "```\n"
      ]
    },
    {
      "cell_type": "markdown",
      "metadata": {
        "id": "cEVuenjAjIXg",
        "colab_type": "text"
      },
      "source": [
        "### Selecting a Kernel and Tuning Hyperparameters\n",
        "As kPCA is an unsupervised learning algorithm, there is no obvious performance measure to help you select the best kernel and hyperparameter values. That said, dimensionality reduction is often a preparation step for a supervised learning task (e.g., classification), so you can use grid search to select the kernel and hyperparameters that lead to the best performance on that task. The following code creates a twostep pipeline, first reducing dimensionality to two dimensions using kPCA, then applying Logistic Regression for classification. Then it uses GridSearchCV to find the best kernel and gamma value for kPCA in order to get the best classification accuracy at the end of the pipeline:\n",
        "\n",
        "```Python \n",
        "from sklearn.decomposition import KernelPCA\n",
        "from sklearn.model_selection import GridSearchCV\n",
        "from sklearn.linear_model import LogisticRegression\n",
        "from sklearn.pipeline import Pipeline\n",
        "\n",
        "clf = Pipeline([\n",
        "    (\"kpca\", KernelPCA(n_components=2)),\n",
        "    (\"log_reg\", LogisticRegression())\n",
        "])\n",
        "param_grid = [{\n",
        "    \"kpca__gamma\": np.linspace(0.03, 0.05, 10),\n",
        "    \"kpca__kernel\": [\"rbf\", \"sigmoid\"]\n",
        "}]\n",
        "grid_search = GridSearchCV(clf, param_grid, cv=3)\n",
        "grid_search.fit(X, y)\n",
        "\n",
        "print(grid_search.best_params_)\n",
        "```"
      ]
    },
    {
      "cell_type": "markdown",
      "metadata": {
        "id": "Bqrl4gE_pnJv",
        "colab_type": "text"
      },
      "source": [
        "## t-distributed Stochastic Neighbor Embedding (t-SNE)\n",
        "\n",
        "t-SNE is a tool to visualize high-dimensional data. It converts similarities between data points to joint probabilities and tries to minimize the Kullback-Leibler divergence between the joint probabilities of the low-dimensional embedding and the high-dimensional data. t-SNE has a cost function that is not convex, i.e. with different initializations we can get different results.\n",
        "\n",
        "It is highly recommended to use another dimensionality reduction method (e.g. PCA for dense data or TruncatedSVD for sparse data) to reduce the number of dimensions to a reasonable amount (e.g. 50) if the number of features is very high. This will suppress some noise and speed up the computation of pairwise distances between samples. See [docs](https://scikit-learn.org/stable/modules/generated/sklearn.manifold.TSNE.html).\n",
        "\n",
        "```Python\n",
        "from sklearn.manifold import TSNE\n",
        "\n",
        "tsne = TSNE(n_components=2)\n",
        "X_tsne = tsne.fit_transform(X)\n",
        "print(f\"X_tsne.shape - {X_tsne.shape}\")\n",
        "```"
      ]
    },
    {
      "cell_type": "markdown",
      "metadata": {
        "id": "emNfKmOsz4CU",
        "colab_type": "text"
      },
      "source": [
        "## Linear Discriminant Analysis (LDA)\n",
        "\n",
        "A classifier with a linear decision boundary, generated by fitting class conditional densities to the data and using Bayes’ rule. See [docs](https://scikit-learn.org/stable/modules/generated/sklearn.discriminant_analysis.LinearDiscriminantAnalysis.html)."
      ]
    },
    {
      "cell_type": "code",
      "metadata": {
        "id": "NRO_7tTkz3it",
        "colab_type": "code",
        "colab": {
          "base_uri": "https://localhost:8080/",
          "height": 35
        },
        "outputId": "bc5e1973-8e29-445a-b805-8e134157accb"
      },
      "source": [
        "from sklearn.discriminant_analysis import LinearDiscriminantAnalysis\n",
        "\n",
        "lda = LinearDiscriminantAnalysis()\n",
        "X_lda = lda.fit_transform(X, y)\n",
        "print(f\"X_lda.shape - {X_lda.shape}\")"
      ],
      "execution_count": 3,
      "outputs": [
        {
          "output_type": "stream",
          "text": [
            "X_lda.shape - (70000, 9)\n"
          ],
          "name": "stdout"
        }
      ]
    }
  ]
}